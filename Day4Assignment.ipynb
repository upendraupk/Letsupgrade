{
 "cells": [
  {
   "cell_type": "markdown",
   "metadata": {},
   "source": [
    "Occurence of substring"
   ]
  },
  {
   "cell_type": "code",
   "execution_count": 9,
   "metadata": {},
   "outputs": [
    {
     "name": "stdout",
     "output_type": "stream",
     "text": [
      "no of occurences 3\n",
      "indices are:\n",
      "5\n",
      "14\n",
      "25\n"
     ]
    }
   ],
   "source": [
    "s=\"what we think we become; we are Python programmer\"\n",
    "print(\"no of occurences\",s.count(\"we\"))\n",
    "print(\"indices are:\")\n",
    "for i in range(len(s)):\n",
    "    if(s.startswith(\"we\",i)):\n",
    "        print(i)"
   ]
  },
  {
   "cell_type": "markdown",
   "metadata": {},
   "source": [
    "islower isupper"
   ]
  },
  {
   "cell_type": "code",
   "execution_count": 11,
   "metadata": {},
   "outputs": [
    {
     "name": "stdout",
     "output_type": "stream",
     "text": [
      "True\n",
      "False\n",
      "False\n",
      "True\n"
     ]
    }
   ],
   "source": [
    "s=\"12hiii*$\"\n",
    "print(s.islower())           #it checks alphabets in the string and returns true if they are lower case \n",
    "print(s.isupper())           #it checks alphabets in the string and returns true if they are upper case\n",
    "s1=\"HELLO\"\n",
    "print(s1.islower())\n",
    "print(s1.isupper())"
   ]
  },
  {
   "cell_type": "code",
   "execution_count": null,
   "metadata": {},
   "outputs": [],
   "source": []
  }
 ],
 "metadata": {
  "kernelspec": {
   "display_name": "Python 3",
   "language": "python",
   "name": "python3"
  },
  "language_info": {
   "codemirror_mode": {
    "name": "ipython",
    "version": 3
   },
   "file_extension": ".py",
   "mimetype": "text/x-python",
   "name": "python",
   "nbconvert_exporter": "python",
   "pygments_lexer": "ipython3",
   "version": "3.7.3"
  }
 },
 "nbformat": 4,
 "nbformat_minor": 2
}
